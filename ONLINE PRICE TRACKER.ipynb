{
 "cells": [
  {
   "cell_type": "code",
   "execution_count": null,
   "metadata": {},
   "outputs": [],
   "source": [
    "import requests\n",
    "import smtplib\n",
    "from bs4 import BeautifulSoup\n",
    "import time\n",
    "url = 'https://www.amazon.in/Norwegian-Wood-Haruki-Murakami/dp/0099448823/ref=sr_1_1?crid=YCI6R1JNRY15&dchild=1&keywords=murakami&qid=1592141198&s=books&sprefix=mur%2Cstripbooks%2C351&sr=1-1'\n",
    "headers = {'User-Agent':'Mozilla/5.0 (Windows NT 10.0; Win64; x64) AppleWebKit/537.36 (KHTML, like Gecko) Chrome/83.0.4103.97 Safari/537.36'}\n",
    "\n",
    "def check_price():\n",
    "    page = requests.get(url,headers = headers)\n",
    "\n",
    "    soup = BeautifulSoup(page.content, 'html.parser')\n",
    "\n",
    "    title = soup.find(id=\"productTitle\").get_text()\n",
    "    price = soup.find(id=\"soldByThirdParty\").get_text()\n",
    "    con_price = float(price[3:])\n",
    "    if(con_price<400.00):\n",
    "        send_email()\n",
    "    \n",
    "\n",
    "def send_email():\n",
    "    server = smtplib.SMTP('smtp.gmail.com',587)\n",
    "    server.ehlo()\n",
    "    server.starttls()#encrypts the connection\n",
    "    server.ehlo()\n",
    "    \n",
    "    server.login('nani000018@gmail.com','lbmjmdaayskaicmg')\n",
    "    \n",
    "    subject = 'Price Fell Down'\n",
    "    body = 'Check the Amazon Link {}'.format(url)\n",
    "    \n",
    "    msg = f\"Subject: {subject}\\n\\n{body}\"\n",
    "    \n",
    "    server.sendmail('nani000018@gmail.com','aegon018@gmail.com',msg)\n",
    "    \n",
    "    print(\"Hey E-mail is sent\")\n",
    "    \n",
    "    server.quit()\n",
    "\n",
    "\n",
    "    \n",
    "check_price()"
   ]
  }
 ],
 "metadata": {
  "kernelspec": {
   "display_name": "Python 3",
   "language": "python",
   "name": "python3"
  },
  "language_info": {
   "codemirror_mode": {
    "name": "ipython",
    "version": 3
   },
   "file_extension": ".py",
   "mimetype": "text/x-python",
   "name": "python",
   "nbconvert_exporter": "python",
   "pygments_lexer": "ipython3",
   "version": "3.7.6"
  }
 },
 "nbformat": 4,
 "nbformat_minor": 4
}
